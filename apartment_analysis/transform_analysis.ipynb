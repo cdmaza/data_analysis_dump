{
 "cells": [
  {
   "cell_type": "code",
   "execution_count": 1,
   "metadata": {},
   "outputs": [],
   "source": [
    "import pandas as pd\n",
    "import re\n",
    "from datetime import datetime"
   ]
  },
  {
   "cell_type": "code",
   "execution_count": 2,
   "metadata": {},
   "outputs": [],
   "source": [
    "df = pd.read_csv('clean/clean_dataset.csv',encoding='ISO-8859-1')"
   ]
  },
  {
   "cell_type": "code",
   "execution_count": 3,
   "metadata": {},
   "outputs": [],
   "source": [
    "# Property Condition:\n",
    "current_datetime = datetime.now()\n",
    "current_year = current_datetime.year\n",
    "\n",
    "def get_date(row):\n",
    "    completion_year = current_year - row['completion_year']\n",
    "    size = row['size']\n",
    "    maintanance_fee = 0\n",
    "    completion_rate = \"unknown\"\n",
    "\n",
    "    if completion_year < 11 and completion_year > 0:\n",
    "        completion_rate = \"new\"\n",
    "        maintanance_fee = size * 2.25\n",
    "    elif completion_year  < 21 and completion_year > 10:\n",
    "        completion_rate = \"moderate\"\n",
    "        maintanance_fee = size * 4.49         \n",
    "    elif completion_year  > 20:\n",
    "        completion_rate = \"old\"\n",
    "        maintanance_fee = size * 8.99   \n",
    "\n",
    "    return maintanance_fee, completion_rate\n",
    "\n",
    "for index, row in df.iterrows():\n",
    "\n",
    "        if pd.notnull(row['completion_year']):\n",
    "\n",
    "            maintanance, completion = get_date(row)\n",
    "            df.at[index, 'maintanance_fee'] = maintanance\n",
    "            df.at[index, 'completion_rate'] = completion\n",
    "        else:\n",
    "\n",
    "            df.at[index, 'maintanance_fee'] = 0\n",
    "            df.at[index, 'completion_rate'] = \"new\""
   ]
  },
  {
   "cell_type": "code",
   "execution_count": null,
   "metadata": {},
   "outputs": [],
   "source": [
    "#Rental Market Risk:\n",
    "grouped = df.groupby(['property_type', 'prop_name']).size().reset_index(name='competition_rate')\n",
    "grouped.columns = ['property_type', 'prop_name', 'competition_rate']\n",
    "df = df.merge(grouped, on=['property_type', 'prop_name'], how='left')"
   ]
  },
  {
   "cell_type": "code",
   "execution_count": 6,
   "metadata": {},
   "outputs": [],
   "source": [
    "df.to_csv('clean/transform_dataset.csv')"
   ]
  }
 ],
 "metadata": {
  "kernelspec": {
   "display_name": "Python 3",
   "language": "python",
   "name": "python3"
  },
  "language_info": {
   "codemirror_mode": {
    "name": "ipython",
    "version": 3
   },
   "file_extension": ".py",
   "mimetype": "text/x-python",
   "name": "python",
   "nbconvert_exporter": "python",
   "pygments_lexer": "ipython3",
   "version": "3.8.7"
  }
 },
 "nbformat": 4,
 "nbformat_minor": 2
}
