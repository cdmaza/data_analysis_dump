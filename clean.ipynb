{
 "cells": [
  {
   "cell_type": "code",
   "execution_count": 1,
   "metadata": {},
   "outputs": [],
   "source": [
    "# Import necessary libraries\n",
    "import pandas as pd\n",
    "import matplotlib.pyplot as plt\n",
    "import re\n",
    "import seaborn as sns\n"
   ]
  },
  {
   "cell_type": "code",
   "execution_count": 114,
   "metadata": {},
   "outputs": [],
   "source": [
    "df = pd.read_csv('./mudah-apartment-kl-selangor.csv',encoding='ISO-8859-1')"
   ]
  },
  {
   "cell_type": "code",
   "execution_count": 115,
   "metadata": {},
   "outputs": [],
   "source": [
    "df = df.drop('completion_year', axis=1)"
   ]
  },
  {
   "cell_type": "code",
   "execution_count": 116,
   "metadata": {},
   "outputs": [],
   "source": [
    "def get_rent(rents):\n",
    "    if not isinstance(rents, str):  # Handle non-string values\n",
    "        return pd.Series([0])\n",
    "       \n",
    "    after_rents = rents.replace(\" \", \"\")\n",
    "    after_rents = re.findall(r'\\d+(?:,\\d+)*(?:\\.\\d+)?', after_rents)\n",
    "    \n",
    "    if after_rents:\n",
    "        return pd.Series(int(float(after_rents[0])))\n",
    "\n",
    "df[['rent']] = df['monthly_rent'].apply(get_rent)"
   ]
  },
  {
   "cell_type": "code",
   "execution_count": 117,
   "metadata": {},
   "outputs": [],
   "source": [
    "def get_disctrict(location):\n",
    "    if not isinstance(location, str):  # Handle non-string values\n",
    "        return pd.Series([None])\n",
    "    \n",
    "    after_location = re.findall(r'(?<=- ).*', location) \n",
    "\n",
    "    if after_location:\n",
    "        return pd.Series(str(after_location[0]))\n",
    "\n",
    "df[['district']] = df['location'].apply(get_disctrict)"
   ]
  },
  {
   "cell_type": "code",
   "execution_count": 118,
   "metadata": {},
   "outputs": [],
   "source": [
    "def get_rent_type(type):\n",
    "    if not isinstance(type, str):  # Handle non-string values\n",
    "        return pd.Series([None])\n",
    "    \n",
    "    if type == '1':\n",
    "        return pd.Series(['room'])\n",
    "    else:\n",
    "        return pd.Series(['house'])\n",
    "\n",
    "df[['rent_type']] = df['rooms'].apply(get_rent_type)"
   ]
  },
  {
   "cell_type": "code",
   "execution_count": 119,
   "metadata": {},
   "outputs": [],
   "source": [
    "df['parking'] = df['parking'].apply(lambda x: None if pd.isna(x) else x)\n",
    "df['bathroom'] = df['bathroom'].apply(lambda x: None if pd.isna(x) else x)"
   ]
  },
  {
   "cell_type": "code",
   "execution_count": 120,
   "metadata": {},
   "outputs": [
    {
     "name": "stderr",
     "output_type": "stream",
     "text": [
      "C:\\Users\\User\\AppData\\Local\\Temp/ipykernel_22192/4213637051.py:1: FutureWarning: The default value of regex will change from True to False in a future version.\n",
      "  df['size'] = df['size'].str.replace('sq.ft.', '').str.strip()\n"
     ]
    }
   ],
   "source": [
    "df['size'] = df['size'].str.replace('sq.ft.', '').str.strip()"
   ]
  },
  {
   "cell_type": "code",
   "execution_count": 121,
   "metadata": {},
   "outputs": [],
   "source": [
    "def get_rate_facility(rank):\n",
    "    if not isinstance(rank, str):  # Handle non-string values\n",
    "        return pd.Series([None])\n",
    "           \n",
    "    if rank == 'Fully Furnished':\n",
    "        return pd.Series(['2'])\n",
    "    elif rank == 'Partially Furnished':\n",
    "        return pd.Series(['1'])\n",
    "    elif rank == 'Not Furnished':\n",
    "        return pd.Series(['0'])\n",
    "    else:\n",
    "        return pd.Series([None])\n",
    "    \n",
    "df[['furnished_rate']] = df['furnished'].apply(get_rate_facility)"
   ]
  },
  {
   "cell_type": "code",
   "execution_count": 122,
   "metadata": {},
   "outputs": [],
   "source": [
    "def get_rate_furnished(rank):\n",
    "    if not isinstance(rank, str):  # Handle non-string values\n",
    "        return pd.Series([None])\n",
    "           \n",
    "    temp = len(rank.split(','))\n",
    "    \n",
    "    return pd.Series([temp])\n",
    "\n",
    "df[['facilities_rate']] = df['facilities'].apply(get_rate_furnished)"
   ]
  },
  {
   "cell_type": "code",
   "execution_count": 123,
   "metadata": {},
   "outputs": [],
   "source": [
    "# df = df[df['district'].apply(lambda x: x[0] != '0')] # Remove rows with by district\n",
    "# df = df[(df != 0).all(axis=1)] # Remove rows with 0 values"
   ]
  },
  {
   "cell_type": "code",
   "execution_count": 124,
   "metadata": {},
   "outputs": [],
   "source": [
    "df = df[['prop_name','rent','rent_type','region','district','property_type','rooms','parking','bathroom', 'size','furnished_rate', 'facilities_rate']]\n",
    "df.to_csv('clean_dataset.csv')"
   ]
  },
  {
   "cell_type": "code",
   "execution_count": null,
   "metadata": {},
   "outputs": [],
   "source": [
    "# visualize data"
   ]
  }
 ],
 "metadata": {
  "kernelspec": {
   "display_name": "Python 3",
   "language": "python",
   "name": "python3"
  },
  "language_info": {
   "codemirror_mode": {
    "name": "ipython",
    "version": 3
   },
   "file_extension": ".py",
   "mimetype": "text/x-python",
   "name": "python",
   "nbconvert_exporter": "python",
   "pygments_lexer": "ipython3",
   "version": "3.8.7"
  }
 },
 "nbformat": 4,
 "nbformat_minor": 2
}
