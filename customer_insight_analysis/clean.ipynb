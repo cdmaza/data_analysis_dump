{
 "cells": [
  {
   "cell_type": "code",
   "execution_count": 1,
   "metadata": {},
   "outputs": [],
   "source": [
    "import pandas as pd\n",
    "import re"
   ]
  },
  {
   "cell_type": "code",
   "execution_count": 2,
   "metadata": {},
   "outputs": [],
   "source": [
    "df = pd.read_csv('./marketing_campaign_performance.csv',encoding='ISO-8859-1')"
   ]
  },
  {
   "cell_type": "code",
   "execution_count": 5,
   "metadata": {},
   "outputs": [],
   "source": [
    "def get_disctrict(location):\n",
    "    if not isinstance(location, str):  # Handle non-string values\n",
    "        return pd.Series([None])\n",
    "    \n",
    "    after_location = re.findall(r'(?<=- ).*', location) \n",
    "\n",
    "    if after_location:\n",
    "        return pd.Series(str(after_location[0]))\n",
    "\n",
    "df[['district']] = df['location'].apply(get_disctrict)"
   ]
  },
  {
   "cell_type": "code",
   "execution_count": 6,
   "metadata": {},
   "outputs": [],
   "source": [
    "def get_rent_type(type):\n",
    "    if not isinstance(type, str):  # Handle non-string values\n",
    "        return pd.Series([None])\n",
    "    \n",
    "    if type == '1':\n",
    "        return pd.Series(['room'])\n",
    "    else:\n",
    "        return pd.Series(['house'])\n",
    "\n",
    "df[['rent_type']] = df['rooms'].apply(get_rent_type)"
   ]
  },
  {
   "cell_type": "code",
   "execution_count": 7,
   "metadata": {},
   "outputs": [],
   "source": [
    "df['parking'] = df['parking'].apply(lambda x: None if pd.isna(x) else x)\n",
    "df['bathroom'] = df['bathroom'].apply(lambda x: None if pd.isna(x) else x)"
   ]
  },
  {
   "cell_type": "code",
   "execution_count": 8,
   "metadata": {},
   "outputs": [],
   "source": [
    "df['size'] = df['size'].str.replace('sq.ft.', '').str.strip()"
   ]
  },
  {
   "cell_type": "code",
   "execution_count": 9,
   "metadata": {},
   "outputs": [],
   "source": [
    "def get_rate_facility(rank):\n",
    "    if not isinstance(rank, str):  # Handle non-string values\n",
    "        return pd.Series([None])\n",
    "           \n",
    "    if rank == 'Fully Furnished':\n",
    "        return pd.Series(['2'])\n",
    "    elif rank == 'Partially Furnished':\n",
    "        return pd.Series(['1'])\n",
    "    elif rank == 'Not Furnished':\n",
    "        return pd.Series(['0'])\n",
    "    else:\n",
    "        return pd.Series([None])\n",
    "    \n",
    "df[['furnished_rate']] = df['furnished'].apply(get_rate_facility)"
   ]
  },
  {
   "cell_type": "code",
   "execution_count": 10,
   "metadata": {},
   "outputs": [],
   "source": [
    "def get_rate_furnished(rank):\n",
    "    if not isinstance(rank, str):  # Handle non-string values\n",
    "        return pd.Series([None])\n",
    "           \n",
    "    temp = len(rank.split(','))\n",
    "    \n",
    "    return pd.Series([temp])\n",
    "\n",
    "df[['facilities_rate']] = df['facilities'].apply(get_rate_furnished)"
   ]
  },
  {
   "cell_type": "code",
   "execution_count": 12,
   "metadata": {},
   "outputs": [],
   "source": [
    "df = df[['Campaign_ID','Channel','Product_Category','Region','Budget','Spend','Impressions','Clicks','CTR','Conversions', 'CR','Revenue', 'ROI', 'Market_Segment']]\n",
    "df.to_csv('clean_dataset.csv')"
   ]
  }
 ],
 "metadata": {
  "kernelspec": {
   "display_name": "Python 3",
   "language": "python",
   "name": "python3"
  },
  "language_info": {
   "codemirror_mode": {
    "name": "ipython",
    "version": 3
   },
   "file_extension": ".py",
   "mimetype": "text/x-python",
   "name": "python",
   "nbconvert_exporter": "python",
   "pygments_lexer": "ipython3",
   "version": "3.8.7"
  }
 },
 "nbformat": 4,
 "nbformat_minor": 2
}
